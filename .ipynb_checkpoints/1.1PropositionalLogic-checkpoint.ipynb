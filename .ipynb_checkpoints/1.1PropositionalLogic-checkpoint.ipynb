{
 "cells": [
  {
   "cell_type": "markdown",
   "metadata": {},
   "source": [
    "# Propositional Logic\n",
    "## Basic Concepts and Truth Tables"
   ]
  },
  {
   "cell_type": "markdown",
   "metadata": {},
   "source": [
    "### Propositions\n",
    "A proposition is a declarative sentence that is either true (T) or false (F).\n",
    "\n",
    "**Examples**:\n",
    "- \"2 + 2 = 4\" (T)\n",
    "- \"Paris is the capital of Japan\" (F)\n",
    "\n",
    "**Non-examples**:\n",
    "- \"What time is it?\" (not declarative)\n",
    "- \"x + 1 = 2\" (value depends on x)"
   ]
  },
  {
   "cell_type": "markdown",
   "metadata": {},
   "source": [
    "### Logical Connectives"
   ]
  },
  {
   "cell_type": "markdown",
   "metadata": {},
   "source": [
    "#### Negation (¬)\n",
    "Truth table:\n",
    "```\n",
    "p | ¬p\n",
    "T | F\n",
    "F | T\n",
    "```"
   ]
  },
  {
   "cell_type": "code",
   "execution_count": null,
   "metadata": {},
   "outputs": [],
   "source": [
    "import pandas as pd\n",
    "\n",
    "def negation(p):\n",
    "    return not p\n",
    "\n",
    "truth_values = [True, False]\n",
    "data = [[p, negation(p)] for p in truth_values]\n",
    "pd.DataFrame(data, columns=['p', '¬p'])"
   ]
  },
  {
   "cell_type": "markdown",
   "metadata": {},
   "source": [
    "#### Conjunction (∧)\n",
    "Truth table:\n",
    "```\n",
    "p | q | p ∧ q\n",
    "T | T | T\n",
    "T | F | F\n",
    "F | T | F\n",
    "F | F | F\n",
    "```"
   ]
  },
  {
   "cell_type": "code",
   "execution_count": null,
   "metadata": {},
   "outputs": [],
   "source": [
    "def conjunction(p, q):\n",
    "    return p and q\n",
    "\n",
    "data = [[p, q, conjunction(p, q)] \n",
    "        for p in truth_values \n",
    "        for q in truth_values]\n",
    "pd.DataFrame(data, columns=['p', 'q', 'p ∧ q'])"
   ]
  },
  {
   "cell_type": "markdown",
   "metadata": {},
   "source": [
    "#### Implication (→)\n",
    "Truth table:\n",
    "```\n",
    "p | q | p → q\n",
    "T | T | T\n",
    "T | F | F\n",
    "F | T | T\n",
    "F | F | T\n",
    "```"
   ]
  },
  {
   "cell_type": "code",
   "execution_count": null,
   "metadata": {},
   "outputs": [],
   "source": [
    "def implication(p, q):\n",
    "    return not p or q\n",
    "\n",
    "data = [[p, q, implication(p, q)] \n",
    "        for p in truth_values \n",
    "        for q in truth_values]\n",
    "pd.DataFrame(data, columns=['p', 'q', 'p → q'])"
   ]
  },
  {
   "cell_type": "markdown",
   "metadata": {},
   "source": [
    "### Truth Table Generator\n",
    "Function to generate truth tables for any compound proposition:"
   ]
  },
  {
   "cell_type": "code",
   "execution_count": null,
   "metadata": {},
   "outputs": [],
   "source": [
    "from itertools import product\n",
    "\n",
    "def truth_table(vars, expr):\n",
    "    combinations = product([False, True], repeat=len(vars))\n",
    "    return pd.DataFrame([dict(zip(vars, comb)) | {'Result': expr(*comb)} \n",
    "                        for comb in combinations])\n",
    "\n",
    "# Example: p ∨ q → ¬r\n",
    "truth_table(['p', 'q', 'r'], lambda p, q, r: (p or q) <= (not r))"
   ]
  },
  {
   "cell_type": "markdown",
   "metadata": {},
   "source": [
    "### Logical Equivalences\n",
    "Show that an implication is equivalent to its contrapositive:"
   ]
  },
  {
   "cell_type": "code",
   "execution_count": null,
   "metadata": {},
   "outputs": [],
   "source": [
    "equiv_data = []\n",
    "for p, q in product([True, False], repeat=2):\n",
    "    equiv_data.append([\n",
    "        p,\n",
    "        q,\n",
    "        implication(p, q),\n",
    "        implication(not q, not p),\n",
    "        implication(p, q) == implication(not q, not p)\n",
    "    ])\n",
    "\n",
    "pd.DataFrame(equiv_data, \n",
    "             columns=['p', 'q', 'p→q', '¬q→¬p', 'Equivalent?'])"
   ]
  }
 ],
 "metadata": {
  "kernelspec": {
   "display_name": "Python 3",
   "language": "python",
   "name": "python3"
  },
  "language_info": {
   "codemirror_mode": {
    "name": "ipython",
    "version": 3
   },
   "file_extension": ".py",
   "mimetype": "text/x-python",
   "name": "python",
   "nbconvert_exporter": "python",
   "pygments_lexer": "ipython3",
   "version": "3.8.5"
  }
 },
 "nbformat": 4,
 "nbformat_minor": 4
}