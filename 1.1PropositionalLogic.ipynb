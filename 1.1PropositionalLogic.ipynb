{
 "cells": [
  {
   "cell_type": "markdown",
   "id": "25bbbfec",
   "metadata": {},
   "source": [
    "# Propositional Logic Fundamentals\n",
    "All logic operations are just combinations of basic Boolean operations"
   ]
  },
  {
   "cell_type": "markdown",
   "id": "fa280e9e",
   "metadata": {
    "jp-MarkdownHeadingCollapsed": true
   },
   "source": [
    "## 1. Atomic Propositions\n",
    "Basic true/false values - the building blocks\n",
    "```python\n",
    "p = True\n",
    "q = False\n",
    "```"
   ]
  },
  {
   "cell_type": "markdown",
   "id": "0373a025",
   "metadata": {},
   "source": [
    "## 2. Negation (¬p)\n",
    "Simply flips the truth value:"
   ]
  },
  {
   "cell_type": "code",
   "execution_count": 11,
   "id": "e25291c8",
   "metadata": {},
   "outputs": [
    {
     "name": "stdout",
     "output_type": "stream",
     "text": [
      "p | ¬p\n",
      "1 | 0\n",
      "0 | 1\n"
     ]
    }
   ],
   "source": [
    "def negation(p):\n",
    "    return not p\n",
    "\n",
    "print(\"p | ¬p\")\n",
    "for p in [True, False]:\n",
    "    print(f\"{int(p)} | {int(negation(p))}\")"
   ]
  },
  {
   "cell_type": "markdown",
   "id": "d4dc2ae5",
   "metadata": {},
   "source": [
    "## 3. Conjunction (p ∧ q)\n",
    "True only when both are true:"
   ]
  },
  {
   "cell_type": "code",
   "execution_count": 12,
   "id": "09ec4408",
   "metadata": {},
   "outputs": [
    {
     "name": "stdout",
     "output_type": "stream",
     "text": [
      "p | q | p ∧ q\n",
      "1 | 1 | 1\n",
      "1 | 0 | 0\n",
      "0 | 1 | 0\n",
      "0 | 0 | 0\n"
     ]
    }
   ],
   "source": [
    "def conjunction(p, q):\n",
    "    return p and q  # Direct boolean operation\n",
    "\n",
    "print(\"p | q | p ∧ q\")\n",
    "for p in [True, False]:\n",
    "    for q in [True, False]:\n",
    "        print(f\"{int(p)} | {int(q)} | {int(conjunction(p, q))}\")"
   ]
  },
  {
   "cell_type": "markdown",
   "id": "ea827299",
   "metadata": {},
   "source": [
    "## 4. Disjunction (p ∨ q)\n",
    "False only when both are false:"
   ]
  },
  {
   "cell_type": "code",
   "execution_count": 13,
   "id": "da5a6ea3",
   "metadata": {},
   "outputs": [
    {
     "name": "stdout",
     "output_type": "stream",
     "text": [
      "p | q | p ∨ q\n",
      "1 | 1 | 1\n",
      "1 | 0 | 1\n",
      "0 | 1 | 1\n",
      "0 | 0 | 0\n"
     ]
    }
   ],
   "source": [
    "def disjunction(p, q):\n",
    "    return p or q  # Basic boolean OR\n",
    "\n",
    "print(\"p | q | p ∨ q\")\n",
    "for p in [True, False]:\n",
    "    for q in [True, False]:\n",
    "        print(f\"{int(p)} | {int(q)} | {int(disjunction(p, q))}\")"
   ]
  },
  {
   "cell_type": "markdown",
   "id": "d3c4c465",
   "metadata": {},
   "source": [
    "## 5. Implication (p → q)\n",
    "Equivalent to ¬p ∨ q - notice how it's built from basic operations:"
   ]
  },
  {
   "cell_type": "code",
   "execution_count": 14,
   "id": "60189642",
   "metadata": {},
   "outputs": [
    {
     "name": "stdout",
     "output_type": "stream",
     "text": [
      "p | q | p → q\n",
      "1 | 1 | 1\n",
      "1 | 0 | 0\n",
      "0 | 1 | 1\n",
      "0 | 0 | 1\n"
     ]
    }
   ],
   "source": [
    "def implication(p, q):\n",
    "    return not p or q  # Combination of negation and disjunction\n",
    "\n",
    "print(\"p | q | p → q\")\n",
    "for p in [True, False]:\n",
    "    for q in [True, False]:\n",
    "        print(f\"{int(p)} | {int(q)} | {int(implication(p, q))}\")"
   ]
  },
  {
   "cell_type": "markdown",
   "id": "5a58f375",
   "metadata": {},
   "source": [
    "## 6. Biconditional (p ↔ q)\n",
    "Just equality check between two booleans:"
   ]
  },
  {
   "cell_type": "code",
   "execution_count": 15,
   "id": "ccf39e64",
   "metadata": {},
   "outputs": [
    {
     "name": "stdout",
     "output_type": "stream",
     "text": [
      "p | q | p ↔ q\n",
      "1 | 1 | 1\n",
      "1 | 0 | 0\n",
      "0 | 1 | 0\n",
      "0 | 0 | 1\n"
     ]
    }
   ],
   "source": [
    "def biconditional(p, q):\n",
    "    return p == q  # Direct boolean comparison\n",
    "\n",
    "print(\"p | q | p ↔ q\")\n",
    "for p in [True, False]:\n",
    "    for q in [True, False]:\n",
    "        print(f\"{int(p)} | {int(q)} | {int(biconditional(p, q))}\")"
   ]
  },
  {
   "cell_type": "markdown",
   "id": "772d07da",
   "metadata": {},
   "source": [
    "## Key Insight\n",
    "All logical operations are constructed from:\n",
    "- Basic Boolean values (True/False)\n",
    "- Three fundamental operations:\n",
    "  1. NOT (¬)\n",
    "  2. AND (∧)\n",
    "  3. OR (∨)\n",
    "\n",
    "Even complex operations like implication are just combinations of these basics!"
   ]
  },
  {
   "cell_type": "code",
   "execution_count": null,
   "id": "b4ec75f1-428f-45fa-a6d6-ae8fc9769a19",
   "metadata": {},
   "outputs": [],
   "source": []
  }
 ],
 "metadata": {
  "kernelspec": {
   "display_name": "Python 3 (ipykernel)",
   "language": "python",
   "name": "python3"
  },
  "language_info": {
   "codemirror_mode": {
    "name": "ipython",
    "version": 3
   },
   "file_extension": ".py",
   "mimetype": "text/x-python",
   "name": "python",
   "nbconvert_exporter": "python",
   "pygments_lexer": "ipython3",
   "version": "3.13.1"
  }
 },
 "nbformat": 4,
 "nbformat_minor": 5
}
